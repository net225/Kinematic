{
 "cells": [
  {
   "cell_type": "code",
   "execution_count": 2,
   "metadata": {},
   "outputs": [
    {
     "data": {
      "text/plain": [
       "array([[-3.50628907e-16,  1.06066017e+00, -7.07106781e-01,\n",
       "        -7.81199104e-01],\n",
       "       [-4.24648446e-18, -3.53553391e-01,  7.07106781e-01,\n",
       "         2.08750390e-01],\n",
       "       [ 1.83697020e-16, -5.00000000e-01,  1.22464680e-16,\n",
       "         2.28660705e-01],\n",
       "       [ 0.00000000e+00,  0.00000000e+00,  0.00000000e+00,\n",
       "         1.00000000e+00]])"
      ]
     },
     "execution_count": 2,
     "metadata": {},
     "output_type": "execute_result"
    }
   ],
   "source": [
    "import numpy as np\n",
    "\n",
    "# Define rotation matrix and transformation matrix\n",
    "def dh_matrix( a, alpha ,d,theta):\n",
    "    return np.array([[np.cos(theta), -np.sin(theta),  0, a],\n",
    "                     [np.sin(theta)*np.cos(alpha),  np.cos(theta)*np.cos(alpha), -np.sin(alpha), -np.sin(alpha)*d],\n",
    "                     [np.cos(theta)*np.sin(alpha), np.cos(theta)*np.sin(alpha),  np.cos(alpha),np.cos(alpha)*d],\n",
    "                     [0,              0,                             0,                            1]])\n",
    "\n",
    "# Values in radians for q1 to q6\n",
    "q1 = np.pi / 4\n",
    "q2 = np.pi / 6\n",
    "q3 = np.pi / 3\n",
    "q4 = np.pi / 6\n",
    "q5 = np.pi / 2\n",
    "q6 = 3 * np.pi / 2\n",
    "\n",
    "L1 = 0.2\n",
    "L2 = 0.7\n",
    "L3 = 0.2\n",
    "L4 = 0.7\n",
    "L5 = 0.2\n",
    "L6 = 0.3\n",
    "L7 = 0.5\n",
    "# D-H parameters from the table (a, alpha, d, theta)\n",
    "\n",
    "T1 = dh_matrix(0, 0, 0 ,q1)\n",
    "T2 = dh_matrix(0,-np.pi/2 , L1 ,  q2-(np.pi/2))\n",
    "T3 = dh_matrix(L2 ,0 ,-L3 ,q3+ (3*np.pi/4))\n",
    "T4 = dh_matrix(L4 ,0 ,L5 , q4-np.pi/4)\n",
    "T5 = dh_matrix(0, np.pi/2 , -L6 , q5+np.pi/2)\n",
    "T6 = dh_matrix(0 , np.pi/2 , 0 , q6 )\n",
    "T7 = dh_matrix(0, 0, L7, 0)\n",
    "\n",
    "# Multiply the matrices to find the overall transformation matrix\n",
    "T_final = T1 @ T2 @ T3 @ T4 @ T5 @ T6 @ T7\n",
    "T_final\n"
   ]
  }
 ],
 "metadata": {
  "kernelspec": {
   "display_name": "Python 3",
   "language": "python",
   "name": "python3"
  },
  "language_info": {
   "codemirror_mode": {
    "name": "ipython",
    "version": 3
   },
   "file_extension": ".py",
   "mimetype": "text/x-python",
   "name": "python",
   "nbconvert_exporter": "python",
   "pygments_lexer": "ipython3",
   "version": "3.10.4"
  }
 },
 "nbformat": 4,
 "nbformat_minor": 2
}
